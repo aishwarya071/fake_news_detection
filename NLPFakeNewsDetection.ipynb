{
  "cells": [
    {
      "cell_type": "markdown",
      "metadata": {
        "id": "view-in-github",
        "colab_type": "text"
      },
      "source": [
        "<a href=\"https://colab.research.google.com/github/aishwarya071/fake_news_detection/blob/main/NLPFakeNewsDetection.ipynb\" target=\"_parent\"><img src=\"https://colab.research.google.com/assets/colab-badge.svg\" alt=\"Open In Colab\"/></a>"
      ]
    },
    {
      "cell_type": "markdown",
      "metadata": {
        "id": "44A4clr5LcAP"
      },
      "source": [
        "## Fake News Detection\n"
      ]
    },
    {
      "cell_type": "code",
      "execution_count": null,
      "metadata": {
        "id": "KvHvmdjxh17B",
        "colab": {
          "base_uri": "https://localhost:8080/",
          "height": 399
        },
        "outputId": "a0970424-3169-469a-aa2d-b079da57ee65"
      },
      "outputs": [
        {
          "output_type": "stream",
          "name": "stdout",
          "text": [
            "Collecting anvil-uplink\n",
            "  Downloading anvil_uplink-0.3.42-py2.py3-none-any.whl (64 kB)\n",
            "\u001b[?25l\r\u001b[K     |█████                           | 10 kB 17.6 MB/s eta 0:00:01\r\u001b[K     |██████████▏                     | 20 kB 23.0 MB/s eta 0:00:01\r\u001b[K     |███████████████▏                | 30 kB 11.3 MB/s eta 0:00:01\r\u001b[K     |████████████████████▎           | 40 kB 8.8 MB/s eta 0:00:01\r\u001b[K     |█████████████████████████▎      | 51 kB 4.8 MB/s eta 0:00:01\r\u001b[K     |██████████████████████████████▍ | 61 kB 5.7 MB/s eta 0:00:01\r\u001b[K     |████████████████████████████████| 64 kB 2.3 MB/s \n",
            "\u001b[?25hCollecting argparse\n",
            "  Downloading argparse-1.4.0-py2.py3-none-any.whl (23 kB)\n",
            "Collecting ws4py\n",
            "  Downloading ws4py-0.5.1.tar.gz (51 kB)\n",
            "\u001b[K     |████████████████████████████████| 51 kB 199 kB/s \n",
            "\u001b[?25hRequirement already satisfied: future in /usr/local/lib/python3.7/dist-packages (from anvil-uplink) (0.16.0)\n",
            "Requirement already satisfied: six in /usr/local/lib/python3.7/dist-packages (from anvil-uplink) (1.15.0)\n",
            "Building wheels for collected packages: ws4py\n",
            "  Building wheel for ws4py (setup.py) ... \u001b[?25l\u001b[?25hdone\n",
            "  Created wheel for ws4py: filename=ws4py-0.5.1-py3-none-any.whl size=45229 sha256=96dee801a75da56ba76a5122da73c8be6b655833874315e481d58d9440f96ed9\n",
            "  Stored in directory: /root/.cache/pip/wheels/29/ea/7d/3410aa0aa0e4402ead9a7a97ab2214804887e0f5c2b76f0c96\n",
            "Successfully built ws4py\n",
            "Installing collected packages: ws4py, argparse, anvil-uplink\n",
            "Successfully installed anvil-uplink-0.3.42 argparse-1.4.0 ws4py-0.5.1\n"
          ]
        },
        {
          "output_type": "display_data",
          "data": {
            "application/vnd.colab-display-data+json": {
              "pip_warning": {
                "packages": [
                  "argparse",
                  "google"
                ]
              }
            }
          },
          "metadata": {}
        }
      ],
      "source": [
        "pip install anvil-uplink"
      ]
    },
    {
      "cell_type": "code",
      "execution_count": null,
      "metadata": {
        "id": "ByFJjvt-ifN8",
        "colab": {
          "base_uri": "https://localhost:8080/"
        },
        "outputId": "8ef31758-5d47-4088-eadd-be9f11ab2bff"
      },
      "outputs": [
        {
          "output_type": "stream",
          "name": "stdout",
          "text": [
            "Connecting to wss://anvil.works/uplink\n",
            "Anvil websocket open\n",
            "Connected to \"Default environment\" as SERVER\n"
          ]
        }
      ],
      "source": [
        "import anvil.server\n",
        "\n",
        "anvil.server.connect(\"ICMTKMAF5UKXCXWPQURBH2YC-7LFORPKPK5VX53QQ\")"
      ]
    },
    {
      "cell_type": "markdown",
      "metadata": {
        "id": "2gTjtHwXLj56"
      },
      "source": [
        "**Import required libraries**"
      ]
    },
    {
      "cell_type": "code",
      "execution_count": null,
      "metadata": {
        "id": "65CtHPv6337B"
      },
      "outputs": [],
      "source": [
        "from sklearn import model_selection, preprocessing, svm,metrics\n",
        "from sklearn.feature_extraction.text import TfidfVectorizer, CountVectorizer\n",
        "from sklearn import  ensemble\n",
        "import pandas as pd\n",
        "from sklearn.tree import DecisionTreeClassifier\n",
        "import numpy, string\n",
        "from keras.preprocessing import text, sequence\n",
        "from sklearn.linear_model import LogisticRegression\n",
        "from joblib import dump\n",
        "import seaborn as sns\n",
        "import nltk\n",
        "from nltk.corpus import stopwords\n",
        "import re\n",
        "import numpy as np"
      ]
    },
    {
      "cell_type": "code",
      "execution_count": null,
      "metadata": {
        "id": "pugrzp2hyv1v",
        "colab": {
          "base_uri": "https://localhost:8080/"
        },
        "outputId": "f28be266-be95-4e0d-f271-681c13d596af"
      },
      "outputs": [
        {
          "output_type": "stream",
          "name": "stdout",
          "text": [
            "Drive already mounted at /content/drive; to attempt to forcibly remount, call drive.mount(\"/content/drive\", force_remount=True).\n"
          ]
        }
      ],
      "source": [
        "from google.colab import drive\n",
        "drive.mount('/content/drive')"
      ]
    },
    {
      "cell_type": "markdown",
      "metadata": {
        "id": "ovOQUNvZLrJ9"
      },
      "source": [
        "**load the dataset**"
      ]
    },
    {
      "cell_type": "code",
      "execution_count": null,
      "metadata": {
        "id": "4NvGDqOTywjB"
      },
      "outputs": [],
      "source": [
        "dataframe=pd.read_csv('/content/drive/MyDrive/Malayalam_News.csv')\n",
        "#dataframe=pd.read_csv('/content/drive/MyDrive/MalayalamNews.csv') csv path - aishwarya "
      ]
    },
    {
      "cell_type": "code",
      "execution_count": null,
      "metadata": {
        "id": "utH4tM0_5V6-",
        "colab": {
          "base_uri": "https://localhost:8080/",
          "height": 206
        },
        "outputId": "503a3e53-b281-4adf-97d9-8cdf67111ea0"
      },
      "outputs": [
        {
          "output_type": "execute_result",
          "data": {
            "text/plain": [
              "                                                News  Outcome  \\\n",
              "0  Pakistan Prime Minister Khan criticised over m...        1   \n",
              "1  Chhattisgarh reports 2,665 fresh Covid-19 case...        1   \n",
              "2  Read: WHO urges countries to donate 10 million...        1   \n",
              "3  WHO in talks with India about vaccine exports ...        1   \n",
              "4  Read - Covid-19: Maharashtra CM announces nigh...        1   \n",
              "\n",
              "                                            mal_text  \n",
              "0   കേസുകളായി യോഗത്തിൽ യോഗത്തിൽ യോഗത്തിൽ വിമർശിച്ചു.  \n",
              "1  കഴിഞ്ഞ 24 മണിക്കൂറിനുള്ളിൽ 2,665 പുതിയ കോണിഡ് ...  \n",
              "2  വായിക്കുക: 10 ദശലക്ഷം വാക്സിൻ ഡോസുകൾ സംഭാവന ചെ...  \n",
              "3  വാക്സിൻ കയറ്റുമതിയെക്കുറിച്ച് ആരാണ് ഇന്ത്യയുമാ...  \n",
              "4  വായിക്കുക - കോത്ത് -1: മാർച്ച് 28 മുതൽ സംസ്ഥാന...  "
            ],
            "text/html": [
              "\n",
              "  <div id=\"df-e5a8515c-33c5-4feb-adae-ccf0abab041b\">\n",
              "    <div class=\"colab-df-container\">\n",
              "      <div>\n",
              "<style scoped>\n",
              "    .dataframe tbody tr th:only-of-type {\n",
              "        vertical-align: middle;\n",
              "    }\n",
              "\n",
              "    .dataframe tbody tr th {\n",
              "        vertical-align: top;\n",
              "    }\n",
              "\n",
              "    .dataframe thead th {\n",
              "        text-align: right;\n",
              "    }\n",
              "</style>\n",
              "<table border=\"1\" class=\"dataframe\">\n",
              "  <thead>\n",
              "    <tr style=\"text-align: right;\">\n",
              "      <th></th>\n",
              "      <th>News</th>\n",
              "      <th>Outcome</th>\n",
              "      <th>mal_text</th>\n",
              "    </tr>\n",
              "  </thead>\n",
              "  <tbody>\n",
              "    <tr>\n",
              "      <th>0</th>\n",
              "      <td>Pakistan Prime Minister Khan criticised over m...</td>\n",
              "      <td>1</td>\n",
              "      <td>കേസുകളായി യോഗത്തിൽ യോഗത്തിൽ യോഗത്തിൽ വിമർശിച്ചു.</td>\n",
              "    </tr>\n",
              "    <tr>\n",
              "      <th>1</th>\n",
              "      <td>Chhattisgarh reports 2,665 fresh Covid-19 case...</td>\n",
              "      <td>1</td>\n",
              "      <td>കഴിഞ്ഞ 24 മണിക്കൂറിനുള്ളിൽ 2,665 പുതിയ കോണിഡ് ...</td>\n",
              "    </tr>\n",
              "    <tr>\n",
              "      <th>2</th>\n",
              "      <td>Read: WHO urges countries to donate 10 million...</td>\n",
              "      <td>1</td>\n",
              "      <td>വായിക്കുക: 10 ദശലക്ഷം വാക്സിൻ ഡോസുകൾ സംഭാവന ചെ...</td>\n",
              "    </tr>\n",
              "    <tr>\n",
              "      <th>3</th>\n",
              "      <td>WHO in talks with India about vaccine exports ...</td>\n",
              "      <td>1</td>\n",
              "      <td>വാക്സിൻ കയറ്റുമതിയെക്കുറിച്ച് ആരാണ് ഇന്ത്യയുമാ...</td>\n",
              "    </tr>\n",
              "    <tr>\n",
              "      <th>4</th>\n",
              "      <td>Read - Covid-19: Maharashtra CM announces nigh...</td>\n",
              "      <td>1</td>\n",
              "      <td>വായിക്കുക - കോത്ത് -1: മാർച്ച് 28 മുതൽ സംസ്ഥാന...</td>\n",
              "    </tr>\n",
              "  </tbody>\n",
              "</table>\n",
              "</div>\n",
              "      <button class=\"colab-df-convert\" onclick=\"convertToInteractive('df-e5a8515c-33c5-4feb-adae-ccf0abab041b')\"\n",
              "              title=\"Convert this dataframe to an interactive table.\"\n",
              "              style=\"display:none;\">\n",
              "        \n",
              "  <svg xmlns=\"http://www.w3.org/2000/svg\" height=\"24px\"viewBox=\"0 0 24 24\"\n",
              "       width=\"24px\">\n",
              "    <path d=\"M0 0h24v24H0V0z\" fill=\"none\"/>\n",
              "    <path d=\"M18.56 5.44l.94 2.06.94-2.06 2.06-.94-2.06-.94-.94-2.06-.94 2.06-2.06.94zm-11 1L8.5 8.5l.94-2.06 2.06-.94-2.06-.94L8.5 2.5l-.94 2.06-2.06.94zm10 10l.94 2.06.94-2.06 2.06-.94-2.06-.94-.94-2.06-.94 2.06-2.06.94z\"/><path d=\"M17.41 7.96l-1.37-1.37c-.4-.4-.92-.59-1.43-.59-.52 0-1.04.2-1.43.59L10.3 9.45l-7.72 7.72c-.78.78-.78 2.05 0 2.83L4 21.41c.39.39.9.59 1.41.59.51 0 1.02-.2 1.41-.59l7.78-7.78 2.81-2.81c.8-.78.8-2.07 0-2.86zM5.41 20L4 18.59l7.72-7.72 1.47 1.35L5.41 20z\"/>\n",
              "  </svg>\n",
              "      </button>\n",
              "      \n",
              "  <style>\n",
              "    .colab-df-container {\n",
              "      display:flex;\n",
              "      flex-wrap:wrap;\n",
              "      gap: 12px;\n",
              "    }\n",
              "\n",
              "    .colab-df-convert {\n",
              "      background-color: #E8F0FE;\n",
              "      border: none;\n",
              "      border-radius: 50%;\n",
              "      cursor: pointer;\n",
              "      display: none;\n",
              "      fill: #1967D2;\n",
              "      height: 32px;\n",
              "      padding: 0 0 0 0;\n",
              "      width: 32px;\n",
              "    }\n",
              "\n",
              "    .colab-df-convert:hover {\n",
              "      background-color: #E2EBFA;\n",
              "      box-shadow: 0px 1px 2px rgba(60, 64, 67, 0.3), 0px 1px 3px 1px rgba(60, 64, 67, 0.15);\n",
              "      fill: #174EA6;\n",
              "    }\n",
              "\n",
              "    [theme=dark] .colab-df-convert {\n",
              "      background-color: #3B4455;\n",
              "      fill: #D2E3FC;\n",
              "    }\n",
              "\n",
              "    [theme=dark] .colab-df-convert:hover {\n",
              "      background-color: #434B5C;\n",
              "      box-shadow: 0px 1px 3px 1px rgba(0, 0, 0, 0.15);\n",
              "      filter: drop-shadow(0px 1px 2px rgba(0, 0, 0, 0.3));\n",
              "      fill: #FFFFFF;\n",
              "    }\n",
              "  </style>\n",
              "\n",
              "      <script>\n",
              "        const buttonEl =\n",
              "          document.querySelector('#df-e5a8515c-33c5-4feb-adae-ccf0abab041b button.colab-df-convert');\n",
              "        buttonEl.style.display =\n",
              "          google.colab.kernel.accessAllowed ? 'block' : 'none';\n",
              "\n",
              "        async function convertToInteractive(key) {\n",
              "          const element = document.querySelector('#df-e5a8515c-33c5-4feb-adae-ccf0abab041b');\n",
              "          const dataTable =\n",
              "            await google.colab.kernel.invokeFunction('convertToInteractive',\n",
              "                                                     [key], {});\n",
              "          if (!dataTable) return;\n",
              "\n",
              "          const docLinkHtml = 'Like what you see? Visit the ' +\n",
              "            '<a target=\"_blank\" href=https://colab.research.google.com/notebooks/data_table.ipynb>data table notebook</a>'\n",
              "            + ' to learn more about interactive tables.';\n",
              "          element.innerHTML = '';\n",
              "          dataTable['output_type'] = 'display_data';\n",
              "          await google.colab.output.renderOutput(dataTable, element);\n",
              "          const docLink = document.createElement('div');\n",
              "          docLink.innerHTML = docLinkHtml;\n",
              "          element.appendChild(docLink);\n",
              "        }\n",
              "      </script>\n",
              "    </div>\n",
              "  </div>\n",
              "  "
            ]
          },
          "metadata": {},
          "execution_count": 9
        }
      ],
      "source": [
        "dataframe.head()"
      ]
    },
    {
      "cell_type": "markdown",
      "metadata": {
        "id": "jIHOhsUHL4uw"
      },
      "source": [
        "**Clean the Dataset**"
      ]
    },
    {
      "cell_type": "code",
      "execution_count": null,
      "metadata": {
        "id": "ACmylpzoL92Z"
      },
      "outputs": [],
      "source": [
        "cedilla2latin = [[u'Á', u'A'], [u'á', u'a'], [u'Č', u'C'], [u'č', u'c'], [u'Š', u'S'], [u'š', u's']]\n",
        "tr = dict([(a[0], a[1]) for (a) in cedilla2latin])"
      ]
    },
    {
      "cell_type": "code",
      "execution_count": null,
      "metadata": {
        "id": "-m_fSk-IMBTi",
        "colab": {
          "base_uri": "https://localhost:8080/"
        },
        "outputId": "d755a936-42a0-4ea3-fb9b-ea93525bfc39"
      },
      "outputs": [
        {
          "output_type": "stream",
          "name": "stdout",
          "text": [
            "[nltk_data] Downloading package stopwords to /root/nltk_data...\n",
            "[nltk_data]   Unzipping corpora/stopwords.zip.\n"
          ]
        }
      ],
      "source": [
        "nltk.download('stopwords')\n",
        "stops = set(stopwords.words(\"english\"))\n",
        "def cleantext(string):\n",
        "    text = string.lower().split()\n",
        "    text = \" \".join(text)\n",
        "    text = re.sub(r\"http(\\S)+\",' ',text)    \n",
        "    text = re.sub(r\"www(\\S)+\",' ',text)\n",
        "    text = re.sub(r\"&\",' and ',text)  \n",
        "    tx = text.replace('&amp',' ')\n",
        "    text = re.sub(r\"[^0-9a-zA-Z]+\",' ',text)\n",
        "    text = text.split()\n",
        "    text = [w for w in text if not w in stops]\n",
        "    text = \" \".join(text)\n",
        "    return text"
      ]
    },
    {
      "cell_type": "code",
      "execution_count": null,
      "metadata": {
        "id": "2TOaQi00Mlk6"
      },
      "outputs": [],
      "source": [
        "for line in dataframe:\n",
        "  line = cleantext(line)"
      ]
    },
    {
      "cell_type": "markdown",
      "metadata": {
        "id": "cQYZg_MaNbAO"
      },
      "source": [
        "**Analyse the dataset**"
      ]
    },
    {
      "cell_type": "code",
      "execution_count": null,
      "metadata": {
        "id": "6tAXwaMZNIXR",
        "colab": {
          "base_uri": "https://localhost:8080/"
        },
        "outputId": "cc1addca-520d-4ff9-d5c7-76b06dfa9f7b"
      },
      "outputs": [
        {
          "output_type": "execute_result",
          "data": {
            "text/plain": [
              "News        10850\n",
              "Outcome     10850\n",
              "mal_text    10850\n",
              "dtype: int64"
            ]
          },
          "metadata": {},
          "execution_count": 13
        }
      ],
      "source": [
        "dataframe.count()"
      ]
    },
    {
      "cell_type": "code",
      "execution_count": null,
      "metadata": {
        "id": "4AW-EenjNfuY",
        "colab": {
          "base_uri": "https://localhost:8080/"
        },
        "outputId": "f6673898-cb01-4862-8095-3119da6e9c30"
      },
      "outputs": [
        {
          "output_type": "execute_result",
          "data": {
            "text/plain": [
              "(10850, 3)"
            ]
          },
          "metadata": {},
          "execution_count": 14
        }
      ],
      "source": [
        "dataframe.shape"
      ]
    },
    {
      "cell_type": "code",
      "execution_count": null,
      "metadata": {
        "id": "t4Xxkp6FNljC",
        "colab": {
          "base_uri": "https://localhost:8080/"
        },
        "outputId": "7505b4d8-d2eb-4e33-e94d-d80b5a22f0f2"
      },
      "outputs": [
        {
          "output_type": "execute_result",
          "data": {
            "text/plain": [
              "0    9689\n",
              "1    1161\n",
              "Name: Outcome, dtype: int64"
            ]
          },
          "metadata": {},
          "execution_count": 15
        }
      ],
      "source": [
        "dataframe.Outcome.value_counts()"
      ]
    },
    {
      "cell_type": "markdown",
      "metadata": {
        "id": "XZA4d8RaNqv2"
      },
      "source": [
        "**Visualization Of Dataset**"
      ]
    },
    {
      "cell_type": "code",
      "execution_count": null,
      "metadata": {
        "id": "L6ApFBVFNtbS",
        "colab": {
          "base_uri": "https://localhost:8080/",
          "height": 319
        },
        "outputId": "a16a5af8-ee5d-4140-a05f-5bee6ea70e13"
      },
      "outputs": [
        {
          "output_type": "execute_result",
          "data": {
            "text/plain": [
              "Text(0.5, 1.0, 'Fake and True in train dataset')"
            ]
          },
          "metadata": {},
          "execution_count": 16
        },
        {
          "output_type": "display_data",
          "data": {
            "text/plain": [
              "<Figure size 432x288 with 1 Axes>"
            ],
            "image/png": "[encoded data removed]"
          },
          "metadata": {}
        }
      ],
      "source": [
        "sns.set(font_scale=1)\n",
        "sns.countplot(x='Outcome',data=dataframe,palette='icefire_r').set_title('Fake and True in train dataset')"
      ]
    },
    {
      "cell_type": "markdown",
      "metadata": {
        "id": "gt99exSWMAVr"
      },
      "source": [
        "**Create a dataframe using News and Outcome**"
      ]
    },
    {
      "cell_type": "code",
      "execution_count": null,
      "metadata": {
        "id": "9YT2xTHa4zSP"
      },
      "outputs": [],
      "source": [
        "x = dataframe['News']\n",
        "y = dataframe['Outcome']"
      ]
    },
    {
      "cell_type": "markdown",
      "metadata": {
        "id": "G2Z19zcDMIhK"
      },
      "source": [
        "**Split the dataset into training and validation datasets**"
      ]
    },
    {
      "cell_type": "code",
      "execution_count": null,
      "metadata": {
        "id": "Sb_QqNCn5oAN"
      },
      "outputs": [],
      "source": [
        "train_x, valid_x, train_y, valid_y = model_selection.train_test_split(dataframe['News'], dataframe['Outcome'])"
      ]
    },
    {
      "cell_type": "markdown",
      "metadata": {
        "id": "j-vO_ccoMKHa"
      },
      "source": [
        "**Label encode the target variable- Outcome**"
      ]
    },
    {
      "cell_type": "code",
      "execution_count": null,
      "metadata": {
        "id": "lPBWlD1B542J"
      },
      "outputs": [],
      "source": [
        "encoder = preprocessing.LabelEncoder()\n",
        "train_y = encoder.fit_transform(train_y)\n",
        "valid_y = encoder.fit_transform(valid_y)"
      ]
    },
    {
      "cell_type": "markdown",
      "metadata": {
        "id": "x18r1ehsMRyJ"
      },
      "source": [
        "**Feature engineering using Word Level TF-IDF**\n",
        "\n",
        "TF-IDF score represents the relative importance of a term in the document and the entire corpus. TF-IDF score is composed by two terms: the first computes the normalized Term Frequency (TF), the second term is the Inverse Document Frequency (IDF), computed as the logarithm of the number of the documents in the corpus divided by the number of documents where the specific term appears.\n",
        "\n",
        "TF(t) = (Number of times term t appears in a document) / (Total number of terms in the document)\n",
        "\n",
        "IDF(t) = log_e(Total number of documents / Number of documents with term t in it)"
      ]
    },
    {
      "cell_type": "code",
      "execution_count": null,
      "metadata": {
        "id": "TeiScgG27qhY"
      },
      "outputs": [],
      "source": [
        "tfidf_vect = TfidfVectorizer(analyzer='word', token_pattern=r'\\w{1,}', max_features=5000)\n",
        "tfidf_vect.fit(dataframe['News'])\n",
        "xtrain_tfidf =  tfidf_vect.transform(train_x)\n",
        "xvalid_tfidf =  tfidf_vect.transform(valid_x)"
      ]
    },
    {
      "cell_type": "code",
      "execution_count": null,
      "metadata": {
        "id": "Yucxy-kfBlHM",
        "colab": {
          "base_uri": "https://localhost:8080/"
        },
        "outputId": "a1e12a31-742e-4fa0-ff2d-7c3d4d60a738"
      },
      "outputs": [
        {
          "output_type": "execute_result",
          "data": {
            "text/plain": [
              "['tfidf.pkl']"
            ]
          },
          "metadata": {},
          "execution_count": 21
        }
      ],
      "source": [
        "dump(tfidf_vect, 'tfidf.pkl')"
      ]
    },
    {
      "cell_type": "markdown",
      "metadata": {
        "id": "zCDN4MBMM4Z8"
      },
      "source": [
        "**Function to train Classifier and calculate Accuracy**"
      ]
    },
    {
      "cell_type": "code",
      "execution_count": null,
      "metadata": {
        "id": "GCWg1jMw8suU"
      },
      "outputs": [],
      "source": [
        "def train_model(classifier, feature_vector_train, label, feature_vector_valid, is_neural_net=False):\n",
        "    # fit the training dataset on the classifier\n",
        "    classifier.fit(feature_vector_train, label)\n",
        "    \n",
        "    # predict the labels on validation dataset\n",
        "    predictions = classifier.predict(feature_vector_valid)\n",
        "\n",
        "    import pickle\n",
        "    pickle.dump(classifier, open('kuy.pkl', 'wb'))\n",
        "    \n",
        "    if is_neural_net:\n",
        "        predictions = predictions.argmax(axis=-1)\n",
        "    \n",
        "    return metrics.accuracy_score(predictions, valid_y)\n"
      ]
    },
    {
      "cell_type": "markdown",
      "metadata": {
        "id": "LhJ2HIyx8z_X"
      },
      "source": [
        "**SVM**\n",
        "\n",
        "A support vector machine (SVM) is a type of deep learning algorithm that performs supervised learning for classification or regression of data groups. In AI and machine learning, supervised learning systems provide both input and desired output data, which are labeled for classification."
      ]
    },
    {
      "cell_type": "code",
      "execution_count": null,
      "metadata": {
        "id": "ZBLv4aRl8O2-",
        "colab": {
          "base_uri": "https://localhost:8080/"
        },
        "outputId": "3544bddd-e3c3-4e10-e2ab-d680a71875d7"
      },
      "outputs": [
        {
          "output_type": "stream",
          "name": "stdout",
          "text": [
            "SVM:  0.9450792480648729\n"
          ]
        }
      ],
      "source": [
        "def SVM():\n",
        "  accuracy = train_model(svm.SVC(), xtrain_tfidf, train_y, xvalid_tfidf)\n",
        "  print(\"SVM: \", accuracy)\n",
        "SVM()"
      ]
    },
    {
      "cell_type": "markdown",
      "metadata": {
        "id": "-GT7LO5Dj81K"
      },
      "source": [
        "Google Translate"
      ]
    },
    {
      "cell_type": "code",
      "execution_count": null,
      "metadata": {
        "id": "OROh27PtYjUb",
        "colab": {
          "base_uri": "https://localhost:8080/"
        },
        "outputId": "f383f3d6-1432-44b9-f6bd-fe41a0f3349d"
      },
      "outputs": [
        {
          "output_type": "stream",
          "name": "stdout",
          "text": [
            "Collecting googletrans==3.1.0a0\n",
            "  Downloading googletrans-3.1.0a0.tar.gz (19 kB)\n",
            "Collecting httpx==0.13.3\n",
            "  Downloading httpx-0.13.3-py3-none-any.whl (55 kB)\n",
            "\u001b[K     |████████████████████████████████| 55 kB 2.3 MB/s \n",
            "\u001b[?25hRequirement already satisfied: chardet==3.* in /usr/local/lib/python3.7/dist-packages (from httpx==0.13.3->googletrans==3.1.0a0) (3.0.4)\n",
            "Collecting sniffio\n",
            "  Downloading sniffio-1.2.0-py3-none-any.whl (10 kB)\n",
            "Requirement already satisfied: idna==2.* in /usr/local/lib/python3.7/dist-packages (from httpx==0.13.3->googletrans==3.1.0a0) (2.10)\n",
            "Requirement already satisfied: certifi in /usr/local/lib/python3.7/dist-packages (from httpx==0.13.3->googletrans==3.1.0a0) (2021.10.8)\n",
            "Collecting httpcore==0.9.*\n",
            "  Downloading httpcore-0.9.1-py3-none-any.whl (42 kB)\n",
            "\u001b[K     |████████████████████████████████| 42 kB 1.3 MB/s \n",
            "\u001b[?25hCollecting rfc3986<2,>=1.3\n",
            "  Downloading rfc3986-1.5.0-py2.py3-none-any.whl (31 kB)\n",
            "Collecting hstspreload\n",
            "  Downloading hstspreload-2021.12.1-py3-none-any.whl (1.3 MB)\n",
            "\u001b[K     |████████████████████████████████| 1.3 MB 10.8 MB/s \n",
            "\u001b[?25hCollecting h11<0.10,>=0.8\n",
            "  Downloading h11-0.9.0-py2.py3-none-any.whl (53 kB)\n",
            "\u001b[K     |████████████████████████████████| 53 kB 2.0 MB/s \n",
            "\u001b[?25hCollecting h2==3.*\n",
            "  Downloading h2-3.2.0-py2.py3-none-any.whl (65 kB)\n",
            "\u001b[K     |████████████████████████████████| 65 kB 3.6 MB/s \n",
            "\u001b[?25hCollecting hpack<4,>=3.0\n",
            "  Downloading hpack-3.0.0-py2.py3-none-any.whl (38 kB)\n",
            "Collecting hyperframe<6,>=5.2.0\n",
            "  Downloading hyperframe-5.2.0-py2.py3-none-any.whl (12 kB)\n",
            "Building wheels for collected packages: googletrans\n",
            "  Building wheel for googletrans (setup.py) ... \u001b[?25l\u001b[?25hdone\n",
            "  Created wheel for googletrans: filename=googletrans-3.1.0a0-py3-none-any.whl size=16367 sha256=818da8cc4827e3c31bbb8781cdf26a0b12ad5aa4f54076f515e4dd188640a4b4\n",
            "  Stored in directory: /root/.cache/pip/wheels/0c/be/fe/93a6a40ffe386e16089e44dad9018ebab9dc4cb9eb7eab65ae\n",
            "Successfully built googletrans\n",
            "Installing collected packages: hyperframe, hpack, sniffio, h2, h11, rfc3986, httpcore, hstspreload, httpx, googletrans\n",
            "Successfully installed googletrans-3.1.0a0 h11-0.9.0 h2-3.2.0 hpack-3.0.0 hstspreload-2021.12.1 httpcore-0.9.1 httpx-0.13.3 hyperframe-5.2.0 rfc3986-1.5.0 sniffio-1.2.0\n"
          ]
        }
      ],
      "source": [
        "pip install googletrans==3.1.0a0"
      ]
    },
    {
      "cell_type": "code",
      "execution_count": null,
      "metadata": {
        "id": "2D2IIcE9ZFI_"
      },
      "outputs": [],
      "source": [
        "#Testing Googletrans alpha version\n",
        "from googletrans import Translator\n",
        "\n",
        "detector = Translator()"
      ]
    },
    {
      "cell_type": "code",
      "execution_count": null,
      "metadata": {
        "id": "DlDAwYRVl-HQ",
        "colab": {
          "base_uri": "https://localhost:8080/"
        },
        "outputId": "c3d1af3d-2c17-4903-f885-2d178fcff7d7"
      },
      "outputs": [
        {
          "name": "stdout",
          "output_type": "stream",
          "text": [
            "Enter a statement in malayalam >>>> 15 സംസ്ഥാനങ്ങളിൽ കൊവിഡ് കേസുകൾ കൂടുന്നു, ദില്ലിയിൽ കൊവിഡ് പ്രതിരോധ മാർഗരേഖ നടപ്പാക്കുന്നത് കർശനമാക്കി\n"
          ]
        },
        {
          "output_type": "execute_result",
          "data": {
            "text/plain": [
              "array(['kovid cases rise 15 states, implementation kovid prevention guidelines tightened delhi'],\n",
              "      dtype='<U86')"
            ]
          },
          "metadata": {},
          "execution_count": 26
        }
      ],
      "source": [
        "tr = Translator()\n",
        "inp = input(\"Enter a statement in malayalam >>>> \")\n",
        "eng = tr.translate(inp).text\n",
        "eng = eng.lower().replace('\\W+',\" \")\n",
        "\n",
        "removed_stopword = []\n",
        "for word in eng.split(): \n",
        "    if word not in stops:\n",
        "        removed_stopword.append(word)\n",
        "\n",
        "eng = np.array([\" \".join(removed_stopword)])\n",
        "eng"
      ]
    },
    {
      "cell_type": "code",
      "execution_count": null,
      "metadata": {
        "id": "ZS3yipLxrxP_"
      },
      "outputs": [],
      "source": [
        "import joblib\n",
        "import time\n",
        "import pandas as pd\n",
        "\n",
        "\n",
        "import pickle\n",
        "from sklearn.feature_extraction.text import TfidfVectorizer\n",
        "from sklearn.feature_extraction.text import TfidfTransformer\n",
        "from sklearn.feature_extraction.text import CountVectorizer\n",
        "import numpy as np\n",
        "\n",
        "vectorizer = open(\"/content/tfidf.pkl\", \"rb\")\n",
        "cv = joblib.load(vectorizer)\n",
        "\n",
        "# load Model For News Prediction\n",
        "svm_model = open(\"/content/kuy.pkl\", \"rb\")\n",
        "clf = joblib.load(svm_model)"
      ]
    },
    {
      "cell_type": "code",
      "execution_count": null,
      "metadata": {
        "id": "njTdERhEoAlB"
      },
      "outputs": [],
      "source": [
        "@anvil.server.callable\n",
        "def predict_fake(inp):\n",
        "  tr = Translator()\n",
        "  eng = tr.translate(inp).text\n",
        "  eng = eng.lower().replace('\\W+',\" \")\n",
        "\n",
        "  removed_stopword = []\n",
        "  for word in eng.split(): \n",
        "      if word not in stops:\n",
        "          removed_stopword.append(word)\n",
        "\n",
        "  eng = np.array([\" \".join(removed_stopword)])\n",
        "  tfidf_vect = TfidfVectorizer(analyzer='word', token_pattern=r'\\w{1,}', max_features=5000)\n",
        "  tfidf_vect.fit(dataframe['News'])\n",
        "  X=tfidf_vect.transform(eng)\n",
        "\n",
        "  result = clf.predict(X)\n",
        "  if (result >= 0.5):\n",
        "    return(\"Genuine\")\n",
        "\n",
        "  else:\n",
        "    return(\"Fake\")\n"
      ]
    },
    {
      "cell_type": "code",
      "execution_count": null,
      "metadata": {
        "id": "EK-_C-UJpLrv"
      },
      "outputs": [],
      "source": [
        "anvil.server.wait_forever()"
      ]
    }
  ],
  "metadata": {
    "accelerator": "GPU",
    "colab": {
      "provenance": [],
      "include_colab_link": true
    },
    "kernelspec": {
      "display_name": "Python 3",
      "name": "python3"
    },
    "language_info": {
      "name": "python"
    }
  },
  "nbformat": 4,
  "nbformat_minor": 0
}